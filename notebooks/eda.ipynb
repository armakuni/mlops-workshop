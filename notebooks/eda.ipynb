{
 "cells": [
  {
   "cell_type": "markdown",
   "metadata": {},
   "source": [
    "# Exploratory data anaylsis"
   ]
  },
  {
   "cell_type": "markdown",
   "metadata": {},
   "source": [
    "## Examine the data\n",
    "\n",
    "The dataset we are working with is an excel speadsheet with different sheets for each year. What does the data look like?"
   ]
  },
  {
   "cell_type": "code",
   "execution_count": null,
   "metadata": {},
   "outputs": [],
   "source": [
    "import pandas as pd\n",
    "data_path = \"../data/raw/Historical Station Counts by State 2007-2021.xlsx\"\n",
    "df = pd.read_excel(data_path, sheet_name='2020', skiprows=1)\n",
    "df"
   ]
  },
  {
   "cell_type": "code",
   "execution_count": null,
   "metadata": {},
   "outputs": [],
   "source": [
    "def clean_data(df: pd.DataFrame) -> pd.DataFrame:\n",
    "    df_cleaned = df.dropna(how=\"all\")\n",
    "    df_cleaned = df_cleaned.rename(columns={\"Totald\" : \"Total\"})\n",
    "    df_cleaned = df_cleaned[[\"State\", \"Total\"]]\n",
    "    df_cleaned = df_cleaned.dropna()\n",
    "    df_cleaned['State'] = df_cleaned['State'].astype('category')\n",
    "    return df_cleaned\n",
    "\n",
    "df_total = pd.DataFrame()\n",
    "for n in range(2007, 2022, 1):\n",
    "    df = pd.read_excel(data_path, sheet_name=str(n), skiprows=1)\n",
    "    df_cleaned = clean_data(df)\n",
    "    df_cleaned[\"Year\"] = n\n",
    "    df_total = pd.concat([df_total, df_cleaned])"
   ]
  },
  {
   "cell_type": "markdown",
   "metadata": {},
   "source": [
    "Get some general info about the data"
   ]
  },
  {
   "cell_type": "code",
   "execution_count": null,
   "metadata": {},
   "outputs": [],
   "source": [
    "df_total.info(verbose=True)"
   ]
  },
  {
   "cell_type": "code",
   "execution_count": null,
   "metadata": {},
   "outputs": [],
   "source": [
    "df_total.describe(include='all')"
   ]
  },
  {
   "cell_type": "markdown",
   "metadata": {},
   "source": [
    "Check how many missing values we have"
   ]
  },
  {
   "cell_type": "code",
   "execution_count": null,
   "metadata": {},
   "outputs": [],
   "source": [
    "df_total.isna().mean()"
   ]
  },
  {
   "cell_type": "markdown",
   "metadata": {},
   "source": [
    "What are the states?"
   ]
  },
  {
   "cell_type": "code",
   "execution_count": null,
   "metadata": {},
   "outputs": [],
   "source": [
    "df.State.value_counts()"
   ]
  },
  {
   "cell_type": "markdown",
   "metadata": {},
   "source": [
    "The data is a bit of a mess because of footnotes in the excel spreadsheet. Also, there are 52 states in the data so we can expect the results to be noise - you can see this from the percentile cuts on the `Total` data above.\n",
    "\n",
    "For simplicity, let's trim down to rows with \"Total\" in the `State` column. This has the added bonus that it makes the problem univariate.\n",
    "\n",
    "Let's also make the `Year` column a timestamp and set it to be the index. Hint: When we want to make a prediction we will want to use datetime stamps rather than integer row indices as that is what we would want to use in a predict API"
   ]
  },
  {
   "cell_type": "code",
   "execution_count": null,
   "metadata": {},
   "outputs": [],
   "source": [
    "y = df_total[df['State'] == 'Total']\n",
    "y = y.drop('State', axis=1)\n",
    "y.Year = pd.to_datetime(y.Year, format=\"%Y\")\n",
    "y = y.reset_index(drop=True)\n",
    "y = y.set_index('Year')\n",
    "y.plot()"
   ]
  },
  {
   "cell_type": "markdown",
   "metadata": {},
   "source": [
    "## Fit an auto-regressive time series model\n"
   ]
  },
  {
   "cell_type": "markdown",
   "metadata": {},
   "source": [
    "Split the data into train and test. Make sure not to shuffle as we want the time order to be preserved for future forecasting."
   ]
  },
  {
   "cell_type": "code",
   "execution_count": null,
   "metadata": {},
   "outputs": [],
   "source": [
    "from sklearn.model_selection import train_test_split\n",
    "\n",
    "y_train, y_test = train_test_split(y, shuffle=False)\n",
    "y_train\n",
    "y_test"
   ]
  },
  {
   "cell_type": "code",
   "execution_count": null,
   "metadata": {},
   "outputs": [],
   "source": [
    "from statsmodels.tsa.ar_model import AutoReg\n",
    "model_ag = AutoReg(endog = y_train, \\\n",
    "                   lags = 1, \\\n",
    "                   trend='c', \\\n",
    "                   seasonal = False, \\\n",
    "                   exog = None, \\\n",
    "                   hold_back = None, \\\n",
    "                   period = None, \\\n",
    "                   missing = 'none')\n",
    "fit_ag = model_ag.fit()\n",
    "print(\"Coefficients:\\n%s\" % fit_ag.params)"
   ]
  },
  {
   "cell_type": "code",
   "execution_count": null,
   "metadata": {},
   "outputs": [],
   "source": [
    "y_pred = fit_ag.predict(start=y_test.index[0], \\\n",
    "                        end=y_test.index[-1], \\\n",
    "                        dynamic=False)"
   ]
  },
  {
   "cell_type": "markdown",
   "metadata": {},
   "source": [
    "Plot the prediction vs the training data"
   ]
  },
  {
   "cell_type": "code",
   "execution_count": null,
   "metadata": {},
   "outputs": [],
   "source": [
    "import matplotlib.pyplot as plt\n",
    "def plot_predictions(train, test, pred):\n",
    "    plt.figure(figsize=(8,6))\n",
    "    plt.plot(train.index, train.Total, label='Train')\n",
    "    plt.plot(test.index, test, label='Test')\n",
    "    plt.plot(pred.index, pred, label='Prediction')\n",
    "    plt.yscale('log')\n",
    "    plt.legend(loc='best')\n",
    "    plt.title(\"Predictions vs input\")\n",
    "    plt.show()\n",
    "plot_predictions(y_train, y_test, y_pred)"
   ]
  },
  {
   "cell_type": "markdown",
   "metadata": {},
   "source": [
    "For comparison, get some scores for the model using a test set"
   ]
  },
  {
   "cell_type": "code",
   "execution_count": null,
   "metadata": {},
   "outputs": [],
   "source": [
    "from sklearn.metrics import mean_absolute_percentage_error\n",
    "\n",
    "mean_absolute_percentage_error(y_test.values, y_pred.values)"
   ]
  },
  {
   "cell_type": "markdown",
   "metadata": {},
   "source": [
    "Out of interest, what do the predictions look like out into the future, say to 2040?"
   ]
  },
  {
   "cell_type": "code",
   "execution_count": null,
   "metadata": {},
   "outputs": [],
   "source": [
    "from datetime import datetime\n",
    "y_pred2 = fit_ag.predict(start=datetime(2016, 1, 1), \\\n",
    "                             end=datetime(2040, 1, 1), \\\n",
    "                             dynamic=False)\n",
    "\n",
    "plot_predictions(y_train, y_test, y_pred2)"
   ]
  },
  {
   "cell_type": "markdown",
   "metadata": {},
   "source": [
    "How do we then make a single prediction"
   ]
  },
  {
   "cell_type": "code",
   "execution_count": null,
   "metadata": {},
   "outputs": [],
   "source": [
    "single_prediction = fit_ag.predict(start=datetime(2020, 1, 1), \\\n",
    "                             end=datetime(2020, 1, 1), \\\n",
    "                             dynamic=False)\n",
    "single_prediction.values[0]"
   ]
  },
  {
   "cell_type": "markdown",
   "metadata": {},
   "source": [
    "## Saving the model to disk"
   ]
  },
  {
   "cell_type": "code",
   "execution_count": null,
   "metadata": {},
   "outputs": [],
   "source": [
    "import statsmodels.api as sm\n",
    "model_path = \"model.pickle\"\n",
    "fit_ag.save(model_path)\n",
    "fit_ag2 = sm.load_pickle(model_path)\n",
    "single_prediction2 = fit_ag2.predict(start=datetime(2020, 1, 1), \\\n",
    "                             end=datetime(2020, 1, 1), \\\n",
    "                             dynamic=False)\n",
    "single_prediction2.values[0]"
   ]
  }
 ],
 "metadata": {
  "kernelspec": {
   "display_name": "Python 3.10.8 ('.venv': poetry)",
   "language": "python",
   "name": "python3"
  },
  "language_info": {
   "codemirror_mode": {
    "name": "ipython",
    "version": 3
   },
   "file_extension": ".py",
   "mimetype": "text/x-python",
   "name": "python",
   "nbconvert_exporter": "python",
   "pygments_lexer": "ipython3",
   "version": "3.10.8"
  },
  "orig_nbformat": 4,
  "vscode": {
   "interpreter": {
    "hash": "7bcd3654e838d72788add8f2989852a00729153367962f273229cbe3242ddf8a"
   }
  }
 },
 "nbformat": 4,
 "nbformat_minor": 2
}
